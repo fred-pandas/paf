{
 "cells": [
  {
   "cell_type": "markdown",
   "metadata": {},
   "source": [
    "<div id=\"titre\">\n",
    "<h1 style=\"font-size:500%\">Data visualisation des séismes</h1>\n",
    "<div style=\"font-family:Comic Sans MS; background-color:black;box-shadow: 8px 8px 0px #aaa; text-align:center; width: 50%; color:white\">Bro Frédéric - PFC - Liban - 20 janvier 2020</div>\n",
    "</div>"
   ]
  },
  {
   "cell_type": "markdown",
   "metadata": {},
   "source": [
    "L'USGS fournit des données sur les tremblements de terre survenus dans le monde à l'adresse https://earthquake.usgs.gov/earthquakes/search/ . \n",
    "<br> Le fichier <code>'earthquakes.csv'</code> contient les données concernant tous les séimes qui se sont produits en 2014."
   ]
  },
  {
   "cell_type": "markdown",
   "metadata": {},
   "source": [
    "<div id=\"table\" style=\"border:solid; background-color:#86BC98;box-shadow: 8px 8px 0px #aaa\">\n",
    "    <p style=\"font-family:Comic Sans MS\"><u>Table des matières :</u></p>\n",
    "<p style=\"font-family:Arial Black;font-size:100%; color:black\">1 - <a href=\"#section1\" style=\"font-family:Comic Sans MS\">Quels sont les pays les plus touchés par les séismes ?</a></p>\n",
    "<p style=\"font-family:Arial Black; font-size:100%; color:black\">2 - <a href=\"#section2\" style=\"font-family:Comic Sans MS\">Création de cartes des séismes produits en 2014</a></p>\n",
    "<p style=\"font-family:Arial Black; font-size:100%; color:black\">3 - <a href=\"#section3\" style=\"font-family:Comic Sans MS\">Carte choroplèthe associée au nombre de séismes</a></p>\n",
    "</div>"
   ]
  },
  {
   "cell_type": "markdown",
   "metadata": {},
   "source": [
    "<div id=\"section1\">\n",
    "<blockquote id=\"section\">Quels sont les pays les plus touchés par les séismes ?</blockquote>\n",
    "<a href=\"#table\"; style=\"text-align: right;\">Retour table des matières</a>\n",
    "</div>"
   ]
  },
  {
   "cell_type": "code",
   "execution_count": null,
   "metadata": {},
   "outputs": [],
   "source": [
    "import pandas as pa \n",
    "import pylab as pl\n",
    "import seaborn\n",
    "pl.style.use('bmh')"
   ]
  },
  {
   "cell_type": "code",
   "execution_count": null,
   "metadata": {},
   "outputs": [],
   "source": [
    "T = pa.read_csv('earthquakes_2014.csv')\n",
    "T.head(2)"
   ]
  },
  {
   "cell_type": "markdown",
   "metadata": {},
   "source": [
    "<div class=\"alert alert-success\" role=\"alert\">\n",
    "    <p style=\"font-family:Arial Black\">Récupérons le nom du pays auquel s'est produit le séisme :</p>\n",
    "    <blockquote id=\"barrev\">\n",
    "        <ul>\n",
    "            <li>La colonne <code>place</code> renseigne le lieux du séisme. \n",
    "            <br>Le nom situé juste après la virgule correspond au nom du pays où s'est produit le séisme.</li>\n",
    "            <li>Pour chaque séime, on récupère le nom du pays où s'est déroulé le séisme et on stocke ces noms dans la nouvelle colonne <code>pays</code> de <code>T</code></li>\n",
    "        </ul>\n",
    "    </blockquote>\n",
    "</div>"
   ]
  },
  {
   "cell_type": "code",
   "execution_count": null,
   "metadata": {},
   "outputs": [],
   "source": [
    "T['pays'] = T.place.str.split(',').apply(lambda x:x[-1])\n",
    "T['pays'] = T.pays.str.replace(' ','')\n",
    "\n",
    "T['pays'].value_counts().head(20)"
   ]
  },
  {
   "cell_type": "code",
   "execution_count": null,
   "metadata": {},
   "outputs": [],
   "source": [
    "noms = T['pays'].value_counts().head(20).index\n",
    "\n",
    "pl.xticks(rotation=90)\n",
    "seaborn.boxplot(x='pays', y='mag', data=T.query('pays in @noms'),whis='range', order=noms)"
   ]
  },
  {
   "cell_type": "markdown",
   "metadata": {},
   "source": [
    "<div class=\"alert alert-success\" role=\"alert\">\n",
    "    <p style=\"font-family:Arial Black\">Remarque :</p>\n",
    "    <blockquote id=\"barrev\">\n",
    "        La force de pandas permet en quelques instants de nous apporter les données.\n",
    "    </blockquote>\n",
    "</div>"
   ]
  },
  {
   "cell_type": "markdown",
   "metadata": {},
   "source": [
    "<div id=\"section2\">\n",
    "<blockquote id=\"section\">Création de cartes des séismes produits en 2014</blockquote>\n",
    "<a href=\"#table\"; style=\"text-align: right;\">Retour table des matières</a>\n",
    "</div>"
   ]
  },
  {
   "cell_type": "markdown",
   "metadata": {},
   "source": [
    "<blockquote id=\"barre\">\n",
    "    <ul>\n",
    "        <li> Le module geopandas permet de lire le fichier <code>'countries.json'</code>.</li>\n",
    "        <li> Ce fichier contient les coordonnées gps des frontières de chaque pays du monde </li>\n",
    "    </ul>\n",
    "</blockquote>"
   ]
  },
  {
   "cell_type": "code",
   "execution_count": null,
   "metadata": {},
   "outputs": [],
   "source": [
    "import geopandas as gp\n",
    "\n",
    "monde = gp.read_file('countries.json')"
   ]
  },
  {
   "cell_type": "markdown",
   "metadata": {},
   "source": [
    "<div class=\"alert alert-info\">\n",
    "    <p style=\"font-family:Arial Black\">Objectif :</p> \n",
    "    <blockquote id=\"barre\">\n",
    "    Sélectionnons les seismes de magnitude $\\geqslant 1$ et représentons les sur une carte selon sa magnétude.\n",
    "    </blockquote>    \n",
    "</div>"
   ]
  },
  {
   "cell_type": "code",
   "execution_count": null,
   "metadata": {},
   "outputs": [],
   "source": [
    "F = T.query('mag >= 1')\n",
    "\n",
    "fig, ax = pl.subplots(figsize=(15, 8))\n",
    "monde.plot(color='darksalmon',ax=ax)\n",
    "pl.scatter(F['longitude'],F['latitude'],c=F['mag'],cmap='coolwarm')\n",
    "\n",
    "ax_cbar = pl.colorbar(fraction=0.1,pad=0.05,shrink=0.7)\n",
    "ax_cbar.set_label('Magnitude')"
   ]
  },
  {
   "cell_type": "code",
   "execution_count": null,
   "metadata": {},
   "outputs": [],
   "source": [
    "len(F)"
   ]
  },
  {
   "cell_type": "markdown",
   "metadata": {},
   "source": [
    "<div class=\"alert alert-success\" role=\"alert\">\n",
    "<p style=\"font-family:Arial Black\">Objectif :</p>\n",
    "<blockquote id=\"barrev\">\n",
    "Les $82456$ séismes se répartissent le long des plaques tectoniques.\n",
    "</blockquote>\n",
    "</div>"
   ]
  },
  {
   "cell_type": "markdown",
   "metadata": {},
   "source": [
    "<div class=\"alert alert-info\">\n",
    "    <p style=\"font-family:Arial Black\">Objectif :</p> \n",
    "    <blockquote id=\"barre\">\n",
    "        Créons une carte \"dynamique\" représentant les $36203$ séismes de <code>F</code>.\n",
    "    </blockquote>    \n",
    "</div>"
   ]
  },
  {
   "cell_type": "markdown",
   "metadata": {},
   "source": [
    "<blockquote id=\"barre\">\n",
    "    <ul>\n",
    "        <li> Le module folium permet de représenter des cartes dynamique <code>'countries.json'</code>.</li>\n",
    "        <li> Nous allons utiliser les cartes proposées par <b>Open Street Map</b> et le langage Python afin de générer des cartes personnalisées. Plus exactement, nous allons utiliser une bibliothèque Python nommée <code>Folium</code>, pour créer nos propres cartes à partir des cartes proposées par <b>Open Street Map</b> </li>\n",
    "    </ul>\n",
    "</blockquote>"
   ]
  },
  {
   "cell_type": "code",
   "execution_count": null,
   "metadata": {},
   "outputs": [],
   "source": [
    "import folium\n",
    "\n",
    "carte = folium.Map(location=[0,0],tiles='stamenterrain', zoom_start=2)\n",
    "carte"
   ]
  },
  {
   "cell_type": "code",
   "execution_count": null,
   "metadata": {},
   "outputs": [],
   "source": [
    "from folium.plugins import HeatMap\n",
    "\n",
    "F = T.query('mag > 2')\n",
    "\n",
    "GPS = F[['latitude','longitude']].values.tolist()\n",
    "\n",
    "HeatMap(GPS,radius=4,blur=1,gradient={0.5: 'dark', 0.5: 'blue', 1: 'red'},\n",
    "        min_opacity=0.4).add_to(carte)\n",
    "carte"
   ]
  },
  {
   "cell_type": "code",
   "execution_count": null,
   "metadata": {},
   "outputs": [],
   "source": [
    "len(F)"
   ]
  },
  {
   "cell_type": "markdown",
   "metadata": {},
   "source": [
    "<div class=\"alert alert-info\">\n",
    "    <p style=\"font-family:Arial Black\">Objectif :</p> \n",
    "    <blockquote id=\"barre\">\n",
    "        Représentons par dessus <code>carte</code> les sismes de magnétude $\\geqslant 6$.\n",
    "    </blockquote>    \n",
    "</div>"
   ]
  },
  {
   "cell_type": "code",
   "execution_count": null,
   "metadata": {},
   "outputs": [],
   "source": [
    "F = T.query('mag >= 6')\n",
    "\n",
    "from math import sqrt\n",
    "\n",
    "for i,ligne in F.iterrows():\n",
    "    folium.CircleMarker(location=(ligne['latitude'],ligne['longitude']),\n",
    "                        popup=ligne['pays']+'\\n'+str(ligne['mag']),\n",
    "                        color='green',\n",
    "                        fill_color='yellow',\n",
    "                        radius=5*sqrt(ligne['mag'])).add_to(carte)\n",
    "carte"
   ]
  },
  {
   "cell_type": "code",
   "execution_count": null,
   "metadata": {},
   "outputs": [],
   "source": [
    "len(F)"
   ]
  },
  {
   "cell_type": "markdown",
   "metadata": {},
   "source": [
    "<div id=\"section3\">\n",
    "<blockquote id=\"section\">Carte choroplèthe associée au nombre de séismes</blockquote>\n",
    "<a href=\"#table\"; style=\"text-align: right;\">Retour table des matières</a>\n",
    "</div>"
   ]
  },
  {
   "cell_type": "markdown",
   "metadata": {},
   "source": [
    "<blockquote id=\"barre\">\n",
    "        Créons la table <code>E</code> des effectifs des séismes qui se sont produits \n",
    "</blockquote> "
   ]
  },
  {
   "cell_type": "code",
   "execution_count": null,
   "metadata": {},
   "outputs": [],
   "source": [
    "E = T.groupby('pays').count().time.reset_index().query('time >= 10')\n",
    "E.head()"
   ]
  },
  {
   "cell_type": "code",
   "execution_count": null,
   "metadata": {},
   "outputs": [],
   "source": [
    "monde.head()"
   ]
  },
  {
   "cell_type": "markdown",
   "metadata": {},
   "source": [
    "<div class=\"alert alert-info\">\n",
    "    <p style=\"font-family:Arial Black\">Objectif :</p> \n",
    "    <blockquote id=\"barre\">\n",
    "        Fusionnons la table <code>monde</code> avec la table <code>E</code> à partir de :\n",
    "        <ul>\n",
    "            <li>la colonne <code>ADMIN</code> de <code>monde</code>.</li>\n",
    "            <li>et la colonne <code>pays</code> de <code>E</code>.</li>\n",
    "        </ul>\n",
    "    </blockquote>    \n",
    "</div>"
   ]
  },
  {
   "cell_type": "code",
   "execution_count": null,
   "metadata": {},
   "outputs": [],
   "source": [
    "M = monde.merge(E,left_on='ADMIN',right_on='pays',how='inner')\n",
    "M.head()"
   ]
  },
  {
   "cell_type": "markdown",
   "metadata": {},
   "source": [
    "<div class=\"alert alert-info\">\n",
    "    <p style=\"font-family:Arial Black\">Objectif :</p> \n",
    "    <blockquote id=\"barre\">\n",
    "        Créons la carte des pays du monde en coloriant chacun d'eux avec une couleur selon le nombre de séismes produits dans le pays.\n",
    "    </blockquote>    \n",
    "</div>"
   ]
  },
  {
   "cell_type": "code",
   "execution_count": null,
   "metadata": {},
   "outputs": [],
   "source": [
    "M.crs = {'init' :'epsg:robin'}\n",
    "\n",
    "fig, ax = pl.subplots(figsize=(16, 13))\n",
    "monde.plot(ax=ax,edgecolor='black',color='white')\n",
    "M.plot(ax=ax,column='time', cmap='coolwarm',edgecolor='black',\n",
    "       alpha=1,scheme='Quantiles')\n",
    "\n",
    "\n",
    "\"\"\"Représentation de la palette de couleur\"\"\"\n",
    "vmin = M['time'].min()\n",
    "vmax = M['time'].max()\n",
    "norm=pl.Normalize(vmin=vmin, vmax=vmax)\n",
    "\n",
    "cax = fig.add_axes([0.93, 0.3, 0.03, 0.4])\n",
    "sm=pl.cm.ScalarMappable(cmap='coolwarm', norm=norm)\n",
    "sm._A = []\n",
    "fig.colorbar(sm, cax=cax,orientation='vertical')"
   ]
  },
  {
   "cell_type": "markdown",
   "metadata": {},
   "source": [
    "<div class=\"alert alert-info\">\n",
    "    <p style=\"font-family:Arial Black\">Objectif :</p> \n",
    "    <blockquote id=\"barre\">\n",
    "        Avec folium...\n",
    "    </blockquote>    \n",
    "</div>"
   ]
  },
  {
   "cell_type": "code",
   "execution_count": null,
   "metadata": {},
   "outputs": [],
   "source": [
    "carte = folium.Map(location=[0,0],tiles='stamenterrain', zoom_start=2)\n",
    "\n",
    "folium.Choropleth(geo_data = 'countries.geojson',\n",
    "                 data = E,\n",
    "                 columns = ['pays', 'time'],\n",
    "                 key_on = 'feature.properties.ADMIN',\n",
    "                 fill_color = 'Reds',\n",
    "                 legend_name = 'Nombre de seimes',\n",
    "                 bins = list(E.time.quantile([0,0.1, 0.25, 0.5, 0.75,0.9, 1])),\n",
    "                 reset = True,\n",
    "                 highlight = True).add_to(carte)\n",
    "carte"
   ]
  },
  {
   "cell_type": "markdown",
   "metadata": {},
   "source": [
    "<p style=\"color:blue;font-family:Comic Sans MS;background-color:white;font-size:200%;text-align:center;border-style:solid solid solid solid;padding:10px\">Fini ... </p>\n",
    "<p>\n",
    "<a href=\"#titre\"; style=\"text-align: right;\">Retour au début</a>\n",
    "</p>"
   ]
  },
  {
   "cell_type": "code",
   "execution_count": 1,
   "metadata": {},
   "outputs": [
    {
     "data": {
      "text/html": [
       "<style>\n",
       "\n",
       "#notebook-container {\n",
       "    padding: 15px;\n",
       "    background-color: #CBE1DA;\n",
       "    min-height: 0;\n",
       "    -webkit-box-shadow: 0px 0px 12px 1px rgba(87, 87, 87, 0.3);\n",
       "    box-shadow: 0px 0px 12px 1px rgba(0, 0, 0, 0);\n",
       "}\n",
       ".notebook_app {\n",
       "    background-color: white;\n",
       "}\n",
       "#header{\n",
       "background-color: yellow;\n",
       "}\n",
       "#notebook_name.filename{\n",
       "color:DarkRed;\n",
       "font-size:200%;\n",
       "}\n",
       "body #header{\n",
       "background-color:white;\n",
       "}\n",
       "\n",
       ".s_titre\n",
       "{\n",
       "color:white;\n",
       "background-color:#F0573B;\n",
       "font-size:200%;\n",
       "font-family:Arial;\n",
       "border-left: 20px solid orange;\n",
       "margin-left: 0px;\n",
       "}\n",
       "\n",
       "h1{\n",
       "  color:white;\n",
       "  font-family:Comic Sans MS;\n",
       "  font-size:10em;\n",
       "  background-color:#F0573B;\n",
       "  text-align:center;\n",
       "  padding:10px\n",
       "}\n",
       "\n",
       "#section{\n",
       "  color:white;\n",
       "  background-color:#F0573B;\n",
       "  font-size:200%;\n",
       "  font-family:Arial;\n",
       "  border-left: 30px solid orange;  \n",
       "  margin-left: -10px;\n",
       "  padding:10px\n",
       "}\n",
       "\n",
       "#barrev{\n",
       "  color:white;\n",
       "  background-color:#5EB766;\n",
       "  font-size:100%;\n",
       "  font-family:Arial;\n",
       "  border-left: 3px solid #368414;  \n",
       "  margin-left: 10px}\n",
       "\n",
       "#barrer{\n",
       "  background-color:#F9ECF7;\n",
       "  border-left: 2px solid #B63369;  \n",
       "  margin-left: 20px;\n",
       "  color : #A55343\n",
       "}\n",
       "#barre{\n",
       "  background-color:#BAD5E2;\n",
       "  border-left: 2px solid #005C89;  \n",
       "  margin-left: 20px;\n",
       "  color : black\n",
       "}\n",
       "\n",
       "\n",
       "</style>"
      ],
      "text/plain": [
       "<IPython.core.display.HTML object>"
      ]
     },
     "execution_count": 1,
     "metadata": {},
     "output_type": "execute_result"
    }
   ],
   "source": [
    "from IPython.core.display import HTML\n",
    "htm = open(\"style_css.txt\").read()\n",
    "HTML(htm)"
   ]
  },
  {
   "cell_type": "code",
   "execution_count": null,
   "metadata": {},
   "outputs": [],
   "source": []
  }
 ],
 "metadata": {
  "kernelspec": {
   "display_name": "Python 3",
   "language": "python",
   "name": "python3"
  },
  "language_info": {
   "codemirror_mode": {
    "name": "ipython",
    "version": 3
   },
   "file_extension": ".py",
   "mimetype": "text/x-python",
   "name": "python",
   "nbconvert_exporter": "python",
   "pygments_lexer": "ipython3",
   "version": "3.6.7"
  }
 },
 "nbformat": 4,
 "nbformat_minor": 2
}
