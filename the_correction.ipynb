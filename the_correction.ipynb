{
 "cells": [
  {
   "cell_type": "markdown",
   "metadata": {},
   "source": [
    "<div id=\"titre\">\n",
    "<h1 style=\"font-size:500%\">Du thé : <br>exemple d'analyse de données</h1>\n",
    "<div style=\"font-family:Comic Sans MS; background-color:black;box-shadow: 8px 8px 0px #aaa; text-align:center; width: 50%; color:white\">Bro Frédéric - PFC - Liban - 20 janvier 2020</div>\n",
    "</div>"
   ]
  },
  {
   "cell_type": "markdown",
   "metadata": {},
   "source": [
    "<div class=\"alert alert-info\">\n",
    "<p style=\"font-family:Arial Black\">Présentation :</p>\n",
    "Une étude a été menée auprès de 300 consommateurs de thé.\n",
    "    <br>Les résultats sont enregistrés dans le fichier <code>'the.csv'</code>.\n",
    "<hr>\n",
    "<p style=\"font-family:Arial Black\">Objectifs :</p>\n",
    "    <ul>\n",
    "        <li>faire du data mining : fouilles de données</li>\n",
    "        <li>donner un exemple fondamental : étude d'une enquête</li>\n",
    "    </ul>\n",
    "</div>"
   ]
  },
  {
   "cell_type": "markdown",
   "metadata": {},
   "source": [
    "<div id=\"table\" style=\"border:solid; background-color:#86BC98;box-shadow: 8px 8px 0px #aaa\">\n",
    "    <p style=\"font-family:Comic Sans MS\"><u>Table des matières :</u></p>\n",
    "<p style=\"font-family:Arial Black;font-size:100%; color:black\">1 - <a href=\"#section1\" style=\"font-family:Comic Sans MS\">Lecture et traitement des données avec Pandas</a></p>\n",
    "<p style=\"font-family:Arial Black; font-size:100%; color:black\">2 - <a href=\"#section2\" style=\"font-family:Comic Sans MS\">Sélectionner des données</a></p>\n",
    "<p style=\"font-family:Arial Black; font-size:100%; color:black\">3 - <a href=\"#section3\" style=\"font-family:Comic Sans MS\">Croiser des données</a></p>\n",
    "<p style=\"font-family:Arial Black; font-size:100%; color:black\">4 - <a href=\"#section4\" style=\"font-family:Comic Sans MS\">Regrouper des données</a></p>\n",
    "</div>"
   ]
  },
  {
   "cell_type": "markdown",
   "metadata": {},
   "source": [
    "<div id=\"section1\">\n",
    "<blockquote id=\"section\">Lecture et traitement des données avec Pandas</blockquote>\n",
    "<a href=\"#table\"; style=\"text-align: right;\">Retour table des matières</a>\n",
    "</div>"
   ]
  },
  {
   "cell_type": "code",
   "execution_count": null,
   "metadata": {
    "scrolled": true
   },
   "outputs": [],
   "source": [
    "import pylab as pl\n",
    "import pandas as pa\n",
    "\n",
    "pl.style.use('bmh') "
   ]
  },
  {
   "cell_type": "code",
   "execution_count": null,
   "metadata": {},
   "outputs": [],
   "source": [
    "T = pa.read_csv('the.csv')\n",
    "T.head()"
   ]
  },
  {
   "cell_type": "markdown",
   "metadata": {},
   "source": [
    "<div id=\"section2\">\n",
    "<blockquote id=\"section\">Sélectionner des données</blockquote>\n",
    "<a href=\"#table\"; style=\"text-align: right;\">Retour table des matières</a>\n",
    "</div>"
   ]
  },
  {
   "cell_type": "markdown",
   "metadata": {},
   "source": [
    "- Sélectionnons les femmes de plus de 30 ans et créons la table <code>T1</code> : "
   ]
  },
  {
   "cell_type": "code",
   "execution_count": null,
   "metadata": {},
   "outputs": [],
   "source": [
    "T1 = T.query('sexe == \"F\" and age >= 30')\n",
    "T1.head()"
   ]
  },
  {
   "cell_type": "markdown",
   "metadata": {},
   "source": [
    "- Sélectionnons les sportifs ou les moins de 25 ans et créons la table <code>T2</code> : "
   ]
  },
  {
   "cell_type": "code",
   "execution_count": null,
   "metadata": {},
   "outputs": [],
   "source": [
    "T2 = T.query('sportif == 1 or age <= 25')\n",
    "T2.head()"
   ]
  },
  {
   "cell_type": "markdown",
   "metadata": {},
   "source": [
    "<div id=\"section3\">\n",
    "<blockquote id=\"section\">Croiser des données</blockquote>\n",
    "<a href=\"#table\"; style=\"text-align: right;\">Retour table des matières</a>\n",
    "</div>"
   ]
  },
  {
   "cell_type": "markdown",
   "metadata": {},
   "source": [
    "- Croisons les variables statistiques <code>sexe</code> avec <code>comment</code> : "
   ]
  },
  {
   "cell_type": "code",
   "execution_count": null,
   "metadata": {},
   "outputs": [],
   "source": [
    "E = pa.crosstab(T['sexe'],T['comment'])\n",
    "E"
   ]
  },
  {
   "cell_type": "markdown",
   "metadata": {},
   "source": [
    "- Trabsposons la table <code>E</code> :"
   ]
  },
  {
   "cell_type": "code",
   "execution_count": null,
   "metadata": {},
   "outputs": [],
   "source": [
    "E.T"
   ]
  },
  {
   "cell_type": "markdown",
   "metadata": {},
   "source": [
    "- Table croisée marginale des effectifs de <code>sexe</code> avec <code>comment</code> :"
   ]
  },
  {
   "cell_type": "code",
   "execution_count": null,
   "metadata": {},
   "outputs": [],
   "source": [
    "M = pa.crosstab(T['sexe'],T['comment'],\n",
    "                margins=True)\n",
    "M"
   ]
  },
  {
   "cell_type": "markdown",
   "metadata": {},
   "source": [
    "<div class=\"alert alert-info\">\n",
    "    <p style=\"font-family:Arial Black\">On note :</p> \n",
    "<blockquote id=\"barre\">\n",
    "    <ul>\n",
    "        <li> $F$ : l'ensemble des femmes</li>\n",
    "        <li> $C$ : l'ensemble des buveurs de thé avec du Citron</li>\n",
    "        <li> $L$ : l'ensemble des buveurs de thé avec du Lait</li>\n",
    "    </ul>   \n",
    "</blockquote>    \n",
    "</div>"
   ]
  },
  {
   "cell_type": "markdown",
   "metadata": {},
   "source": [
    "- Fréquences conditionnelles :"
   ]
  },
  {
   "cell_type": "code",
   "execution_count": null,
   "metadata": {},
   "outputs": [],
   "source": [
    "Freq = M['lait']/M['All']\n",
    "Freq"
   ]
  },
  {
   "cell_type": "markdown",
   "metadata": {},
   "source": [
    "<div class=\"alert alert-success\" role=\"alert\">\n",
    "<p style=\"font-family:Arial Black\">Traductions :</p>\n",
    "<blockquote id=\"barrev\">\n",
    "<ul>\n",
    "    <li>$f_F(L)\\approx18\\%$</li>\n",
    "    <li>$f_H(L)\\approx25\\%$</li>\n",
    "</ul>\n",
    "</blockquote>\n",
    "</div>"
   ]
  },
  {
   "cell_type": "markdown",
   "metadata": {},
   "source": [
    "- Visualation des fréquences conditionnelles :"
   ]
  },
  {
   "cell_type": "code",
   "execution_count": null,
   "metadata": {},
   "outputs": [],
   "source": [
    "E.plot.pie(subplots=True,legend=None,autopct='%.0f%%',\n",
    "          figsize=(10,3))\n",
    "pl.show()"
   ]
  },
  {
   "cell_type": "markdown",
   "metadata": {},
   "source": [
    "<b>Remarque :</b> on peut mettre aussi <code>autopct=lambda x : '{:.0f}%'.format(x)</code>"
   ]
  },
  {
   "cell_type": "code",
   "execution_count": null,
   "metadata": {},
   "outputs": [],
   "source": [
    "E.T"
   ]
  },
  {
   "cell_type": "code",
   "execution_count": null,
   "metadata": {},
   "outputs": [],
   "source": [
    "E.T.plot.pie(subplots=True,legend=None,autopct='%.0f%%',\n",
    "          figsize=(8,4))\n",
    "pl.show()"
   ]
  },
  {
   "cell_type": "markdown",
   "metadata": {},
   "source": [
    "<div id=\"section4\">\n",
    "<blockquote id=\"section\">Regrouper des données</blockquote>\n",
    "<a href=\"#table\"; style=\"text-align: right;\">Retour table des matières</a>\n",
    "</div>"
   ]
  },
  {
   "cell_type": "markdown",
   "metadata": {},
   "source": [
    "<div class=\"alert alert-info\">\n",
    "    <p style=\"font-family:Arial Black\">On note :</p> \n",
    "<blockquote id=\"barre\">\n",
    "    <ul>\n",
    "        <li> $F$ : l'ensemble des femmes</li>\n",
    "        <li> $P$ : l'ensemble des personnes qui pensent que boire du thé est un plus pour la santé</li>\n",
    "    </ul>   \n",
    "</blockquote>    \n",
    "</div>"
   ]
  },
  {
   "cell_type": "markdown",
   "metadata": {},
   "source": [
    "- Regroupons les données selon la variable <code>sexe</code> :"
   ]
  },
  {
   "cell_type": "code",
   "execution_count": null,
   "metadata": {},
   "outputs": [],
   "source": [
    "T.groupby('sexe').mean()"
   ]
  },
  {
   "cell_type": "markdown",
   "metadata": {},
   "source": [
    "<div class=\"alert alert-success\" role=\"alert\">\n",
    "<p style=\"font-family:Arial Black\">Traductions :</p>\n",
    "<blockquote id=\"barrev\">\n",
    "<ul>\n",
    "    <li>L'âge moyen des femmes est de 37 ans contre 36 ans pour les hommes.</li>\n",
    "    <li>$f_F(P)\\approx71\\%$</li>\n",
    "    <li>$f_H(P)\\approx68\\%$</li>\n",
    "</ul>\n",
    "</blockquote>\n",
    "</div>"
   ]
  },
  {
   "cell_type": "markdown",
   "metadata": {},
   "source": [
    "- Regroupons les données selon les variables <code>sexe</code> et <code>sucre</code> :"
   ]
  },
  {
   "cell_type": "code",
   "execution_count": null,
   "metadata": {},
   "outputs": [],
   "source": [
    "T.groupby(['sexe','sucre']).mean()"
   ]
  },
  {
   "cell_type": "markdown",
   "metadata": {},
   "source": [
    "<div class=\"alert alert-success\" role=\"alert\">\n",
    "<p style=\"font-family:Arial Black\">Traductions :</p>\n",
    "<blockquote id=\"barrev\">\n",
    "<ul>\n",
    "    <li>Ce sont les plus jeunes qui sucrent leur thé.</li>\n",
    "    <li>$f_{F\\cap \\overline{S}}(P)\\approx76\\%$</li>\n",
    "    <li>$f_{F\\cap S}(P)\\approx65\\%$</li>\n",
    "</ul>\n",
    "</blockquote>\n",
    "</div>"
   ]
  },
  {
   "cell_type": "markdown",
   "metadata": {},
   "source": [
    "<p style=\"color:blue;font-family:Comic Sans MS;background-color:white;font-size:200%;text-align:center;border-style:solid solid solid solid;padding:10px\">Fini ... </p>\n",
    "<p>\n",
    "<a href=\"#titre\"; style=\"text-align: right;\">Retour au début</a>\n",
    "</p>"
   ]
  },
  {
   "cell_type": "code",
   "execution_count": 1,
   "metadata": {},
   "outputs": [
    {
     "data": {
      "text/html": [
       "<style>\n",
       "\n",
       "#notebook-container {\n",
       "    padding: 15px;\n",
       "    background-color: #CBE1DA;\n",
       "    min-height: 0;\n",
       "    -webkit-box-shadow: 0px 0px 12px 1px rgba(87, 87, 87, 0.3);\n",
       "    box-shadow: 0px 0px 12px 1px rgba(0, 0, 0, 0);\n",
       "}\n",
       ".notebook_app {\n",
       "    background-color: white;\n",
       "}\n",
       "#header{\n",
       "background-color: yellow;\n",
       "}\n",
       "#notebook_name.filename{\n",
       "color:DarkRed;\n",
       "font-size:200%;\n",
       "}\n",
       "body #header{\n",
       "background-color:white;\n",
       "}\n",
       "\n",
       ".s_titre\n",
       "{\n",
       "color:white;\n",
       "background-color:#F0573B;\n",
       "font-size:200%;\n",
       "font-family:Arial;\n",
       "border-left: 20px solid orange;\n",
       "margin-left: 0px;\n",
       "}\n",
       "\n",
       "h1{\n",
       "  color:white;\n",
       "  font-family:Comic Sans MS;\n",
       "  font-size:10em;\n",
       "  background-color:#F0573B;\n",
       "  text-align:center;\n",
       "  padding:10px\n",
       "}\n",
       "\n",
       "#section{\n",
       "  color:white;\n",
       "  background-color:#F0573B;\n",
       "  font-size:200%;\n",
       "  font-family:Arial;\n",
       "  border-left: 30px solid orange;  \n",
       "  margin-left: -10px;\n",
       "  padding:10px\n",
       "}\n",
       "\n",
       "#barrev{\n",
       "  color:white;\n",
       "  background-color:#5EB766;\n",
       "  font-size:100%;\n",
       "  font-family:Arial;\n",
       "  border-left: 3px solid #368414;  \n",
       "  margin-left: 10px}\n",
       "\n",
       "#barrer{\n",
       "  background-color:#F9ECF7;\n",
       "  border-left: 2px solid #B63369;  \n",
       "  margin-left: 20px;\n",
       "  color : #A55343\n",
       "}\n",
       "#barre{\n",
       "  background-color:#BAD5E2;\n",
       "  border-left: 2px solid #005C89;  \n",
       "  margin-left: 20px;\n",
       "  color : black\n",
       "}\n",
       "\n",
       "\n",
       "</style>"
      ],
      "text/plain": [
       "<IPython.core.display.HTML object>"
      ]
     },
     "execution_count": 1,
     "metadata": {},
     "output_type": "execute_result"
    }
   ],
   "source": [
    "from IPython.core.display import HTML\n",
    "htm = open(\"style_css.txt\").read()\n",
    "HTML(htm)"
   ]
  },
  {
   "cell_type": "code",
   "execution_count": null,
   "metadata": {},
   "outputs": [],
   "source": []
  }
 ],
 "metadata": {
  "kernelspec": {
   "display_name": "Python 3",
   "language": "python",
   "name": "python3"
  },
  "language_info": {
   "codemirror_mode": {
    "name": "ipython",
    "version": 3
   },
   "file_extension": ".py",
   "mimetype": "text/x-python",
   "name": "python",
   "nbconvert_exporter": "python",
   "pygments_lexer": "ipython3",
   "version": "3.6.7"
  }
 },
 "nbformat": 4,
 "nbformat_minor": 2
}
