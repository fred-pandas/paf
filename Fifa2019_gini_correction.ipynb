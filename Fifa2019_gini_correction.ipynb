{
 "cells": [
  {
   "cell_type": "markdown",
   "metadata": {},
   "source": [
    "<div id=\"titre\">\n",
    "<h1 style=\"font-size:500%\">Inégalités de salaires au Foot </h1>\n",
    "<div style=\"font-family:Comic Sans MS; background-color:black;box-shadow: 8px 8px 0px #aaa; text-align:center; width: 50%; color:white\">Bro Frédéric - PFC - Liban - 20 janvier 2020</div>\n",
    "</div>"
   ]
  },
  {
   "cell_type": "markdown",
   "metadata": {},
   "source": [
    "<div class=\"alert alert-info\">\n",
    "<p style=\"font-family:Arial Black\">Présentation :</p>\n",
    "La FIFA (Fédération internationale de football association) fournit une base de données relative aux joueurs classés dans le monde.\n",
    "<br>\n",
    "La première ligne correspond au joueur numéro 1 du classement, la deuxième ligne correspond au joueur numéro 2, etc.\n",
    "    <br>Les résultats sont enregistrés dans le fichier <code>'Fifa2019.csv'</code>.\n",
    "<hr>\n",
    "<p style=\"font-family:Arial Black\">Objectifs :</p>\n",
    "    Comparer les salaires des joueurs de la <b>Juventus</b> avec ceux du <b>FC Barcelona </b>.\n",
    "    <p style='text-align:center'>Lequel est-il le plus inégalitaire ?</p>\n",
    "</div>"
   ]
  },
  {
   "cell_type": "markdown",
   "metadata": {},
   "source": [
    "<div id=\"table\" style=\"border:solid; background-color:#86BC98;box-shadow: 8px 8px 0px #aaa\">\n",
    "    <p style=\"font-family:Comic Sans MS\"><u>Table des matières :</u></p>\n",
    "<p style=\"font-family:Arial Black;font-size:100%; color:black\">1 - <a href=\"#section1\" style=\"font-family:Comic Sans MS\">Préliminaires avec Pandas</a></p>\n",
    "<p style=\"font-family:Arial Black; font-size:100%; color:black\">2 - <a href=\"#section2\" style=\"font-family:Comic Sans MS\">Masse salariale du club de la <b>Juventus</b></a></p>\n",
    "<p style=\"font-family:Arial Black; font-size:100%; color:black\">3 - <a href=\"#section3\" style=\"font-family:Comic Sans MS\">Masse salariale du club de la <b>FC Barcelona</b></a></p>\n",
    "<p style=\"font-family:Arial Black; font-size:100%; color:black\">4 - <a href=\"#section4\" style=\"font-family:Comic Sans MS\">Défaut d'inégalité de répartition des salaires : <br><p style='font-weight: bold;text-align:center'>Indice de Gini</p></a></p>\n",
    "</div>"
   ]
  },
  {
   "cell_type": "markdown",
   "metadata": {},
   "source": [
    "<div id=\"section1\">\n",
    "<blockquote id=\"section\">Préliminaires avec Pandas</blockquote>\n",
    "<a href=\"#table\"; style=\"text-align: right;\">Retour table des matières</a>\n",
    "</div>"
   ]
  },
  {
   "cell_type": "code",
   "execution_count": null,
   "metadata": {
    "scrolled": true
   },
   "outputs": [],
   "source": [
    "import pylab as pl\n",
    "import pandas as pa\n",
    "\n",
    "pl.style.use('bmh')\n",
    "\n",
    "T = pa.read_csv('Fifa2019.csv')\n",
    "T.head()"
   ]
  },
  {
   "cell_type": "markdown",
   "metadata": {},
   "source": [
    "<div id=\"section2\">\n",
    "    <blockquote id=\"section\">Masse salariale du club de la <b>Juventus</b></blockquote>\n",
    "<a href=\"#table\"; style=\"text-align: right;\">Retour table des matières</a>\n",
    "</div>"
   ]
  },
  {
   "cell_type": "markdown",
   "metadata": {},
   "source": [
    "- Table des joueurs de la Juventus <code>J</code> : "
   ]
  },
  {
   "cell_type": "code",
   "execution_count": null,
   "metadata": {},
   "outputs": [],
   "source": [
    "J = T.query('club == \"Juventus\"')\n",
    "J.head()"
   ]
  },
  {
   "cell_type": "markdown",
   "metadata": {},
   "source": [
    "- Table <code>JT</code> obtenue en rangeant la colonne <code>salaire</code> de <code>J</code> par ordre croissant : "
   ]
  },
  {
   "cell_type": "code",
   "execution_count": null,
   "metadata": {},
   "outputs": [],
   "source": [
    "JT = J.sort_values('salaire')\n",
    "JT.head()"
   ]
  },
  {
   "cell_type": "markdown",
   "metadata": {},
   "source": [
    "- Liste des <b>pourcentages des $k$ premiers joueurs</b> de <code>JT</code> par rapport à l'ensemble du club : "
   ]
  },
  {
   "cell_type": "code",
   "execution_count": null,
   "metadata": {},
   "outputs": [],
   "source": [
    "Joueurs_JT = [k/len(JT)*100 for k in range(len(JT)+1)]\n",
    "Joueurs_JT"
   ]
  },
  {
   "cell_type": "markdown",
   "metadata": {},
   "source": [
    "- Colonne de la <b>masse salariale cumulée des $k$ premiers joueurs</b> de <code>JT</code> :"
   ]
  },
  {
   "cell_type": "code",
   "execution_count": null,
   "metadata": {},
   "outputs": [],
   "source": [
    "JT.salaire.cumsum()"
   ]
  },
  {
   "cell_type": "markdown",
   "metadata": {},
   "source": [
    "- Liste des pourcentages de la <b>masse salariale des k premiers joueurs</b> de <code>JT</code> par rapport à la masse salariale du club :"
   ]
  },
  {
   "cell_type": "code",
   "execution_count": null,
   "metadata": {},
   "outputs": [],
   "source": [
    "Masse_sal_JT = [0]+list(JT.salaire.cumsum()/JT.salaire.sum()*100)\n",
    "Masse_sal_JT"
   ]
  },
  {
   "cell_type": "markdown",
   "metadata": {},
   "source": [
    "- Représentation de <code>Masse_sal_JT</code> en fonction de <code>Joueurs_JT</code> :"
   ]
  },
  {
   "cell_type": "code",
   "execution_count": null,
   "metadata": {},
   "outputs": [],
   "source": [
    "pl.figure(figsize=(6,6))\n",
    "pl.axis([0,100,0,100])\n",
    "pl.xticks(range(0,110,10))\n",
    "pl.yticks(range(0,110,10))\n",
    "\n",
    "pl.plot(Joueurs_JT,Masse_sal_JT,'o-',\n",
    "        color='green',label='Juventus')\n",
    "pl.plot([0,100],[0,100],color='red',\n",
    "       label=\"% masse salariale en cas d'égalité\")\n",
    "pl.xlabel('% FCC des individus')\n",
    "pl.ylabel('% FCC de la masse salariale')\n",
    "pl.legend()"
   ]
  },
  {
   "cell_type": "markdown",
   "metadata": {},
   "source": [
    "<div class=\"alert alert-info\">\n",
    "    <p style=\"font-family:Arial Black\">Définition :</p> \n",
    "    <blockquote id=\"barre\">\n",
    "    <ul>\n",
    "        <li>La courbe <span style='color:green;font-weight: bold'>verte</span> est appelée <span style='color:green;font-weight: bold'>Courbe de Lorentz</span> de la masse salariale de la Juventus.</li>\n",
    "        <li>Si chaque joueur touchaient le même salaire, alors la courbe de Lorentz serait la <span style='color:red;font-weight: bold'>droite rouge</span>.</li>\n",
    "        </ul>\n",
    "    </blockquote>    \n",
    "</div>"
   ]
  },
  {
   "cell_type": "markdown",
   "metadata": {},
   "source": [
    "<div class=\"alert alert-success\" role=\"alert\">\n",
    "<p style=\"font-family:Arial Black\">Lectures graphiques :</p>\n",
    "<blockquote id=\"barrev\">\n",
    "<ul>\n",
    "    <li>$40\\%$ des joueurs les moins bien payés touchent moins de $20\\%$ de l'ensemble de la masse salariale du club</li>\n",
    "    <li>$20\\%$ des salaires du club sont détenus par moins de $10\\%$ des joueurs</li>\n",
    "</ul>\n",
    "</blockquote>\n",
    "</div>"
   ]
  },
  {
   "cell_type": "markdown",
   "metadata": {},
   "source": [
    "<div id=\"section3\">\n",
    "    <blockquote id=\"section\">Masse salariale du club de la <b>FC Barcelona</b></blockquote>\n",
    "<a href=\"#table\"; style=\"text-align: right;\">Retour table des matières</a>\n",
    "</div>"
   ]
  },
  {
   "cell_type": "markdown",
   "metadata": {},
   "source": [
    "- Table des joueurs de lu FC Barcelona <code>B</code> :"
   ]
  },
  {
   "cell_type": "code",
   "execution_count": null,
   "metadata": {},
   "outputs": [],
   "source": [
    "B = T.query('club == \"FC Barcelona\"')"
   ]
  },
  {
   "cell_type": "markdown",
   "metadata": {},
   "source": [
    "- Table <code>BT</code> obtenue en rangeant la colonne <code>salaire</code> de <code>B</code> par ordre croissant : "
   ]
  },
  {
   "cell_type": "code",
   "execution_count": null,
   "metadata": {},
   "outputs": [],
   "source": [
    "BT = B.sort_values('salaire')"
   ]
  },
  {
   "cell_type": "markdown",
   "metadata": {},
   "source": [
    "- Liste des <b>pourcentages des $k$ premiers joueurs</b> de <code>BT</code> par rapport à l'ensemble du club : "
   ]
  },
  {
   "cell_type": "code",
   "execution_count": null,
   "metadata": {},
   "outputs": [],
   "source": [
    "Joueurs_BT = [k/len(BT)*100 for k in range(len(BT)+1)]"
   ]
  },
  {
   "cell_type": "markdown",
   "metadata": {},
   "source": [
    "- Liste des pourcentages de la <b>masse salariale des k premiers joueurs</b> de <code>BT</code> par rapport à la masse salariale du club :"
   ]
  },
  {
   "cell_type": "code",
   "execution_count": null,
   "metadata": {},
   "outputs": [],
   "source": [
    "Masse_sal_BT = [0]+list(BT.salaire.cumsum()/BT.salaire.sum()*100)"
   ]
  },
  {
   "cell_type": "markdown",
   "metadata": {},
   "source": [
    "- Table croisée marginale des effectifs de <code>sexe</code> avec <code>comment</code> :"
   ]
  },
  {
   "cell_type": "code",
   "execution_count": null,
   "metadata": {},
   "outputs": [],
   "source": [
    "pl.figure(figsize=(6,6))\n",
    "pl.axis([0,100,0,100])\n",
    "pl.xticks(range(0,110,10))\n",
    "pl.yticks(range(0,110,10))\n",
    "\n",
    "pl.plot(Joueurs_JT,Masse_sal_JT,'o-',\n",
    "        color='green',label='Juventus')\n",
    "pl.plot(Joueurs_BT,Masse_sal_BT,'s-',\n",
    "        color='purple',label='FC_Barcelona')\n",
    "pl.plot([0,100],[0,100],color='red',\n",
    "       label=\"% masse salariale en cas d'égalité\")\n",
    "\n",
    "pl.xlabel('% FCC des individus')\n",
    "pl.ylabel('% FCC de la masse salariale')\n",
    "pl.legend()"
   ]
  },
  {
   "cell_type": "markdown",
   "metadata": {},
   "source": [
    "<div id=\"section4\">\n",
    "    <blockquote id=\"section\">Défaut d'inégalité de répartition des salaires : <br><p style='font-weight: bold;text-align:center'>Indice de Gini</p></blockquote>\n",
    "<a href=\"#table\"; style=\"text-align: right;\">Retour table des matières</a>\n",
    "</div>"
   ]
  },
  {
   "cell_type": "markdown",
   "metadata": {},
   "source": [
    "<div class=\"alert alert-info\">\n",
    "    <p style=\"font-family:Arial Black\">Principe :</p> \n",
    "<blockquote id=\"barre\">\n",
    "    Pour mesurer le degré d'inégalité de répartition des salaires entre les joueurs de la <b>Juventus</b>, on mesure le double de l'aire de la zone hachurée (coloriée en orange) appelée <span style='color:orange;font-weight: bold'>Indice de Gini</span>.\n",
    "<table>\n",
    "<tr>\n",
    "<td><img src=fifa_gini_1.png>\n",
    "<td><img src=fifa_gini_2.png>\n",
    "</tr>\n",
    "</table>\n",
    "    <br>L'aire sous la <span style='color:green;font-weight: bold'>courbe de Lorentz</span> est égale à la somme des aires des trapèzes.\n",
    "</blockquote>    \n",
    "</div>"
   ]
  },
  {
   "cell_type": "markdown",
   "metadata": {},
   "source": [
    "- Fonction <code>trapèze</code> de paramètres : \n",
    "<ul>\n",
    "    <li><code>b</code> <i>(petite base)</i></li>\n",
    "    <li><code>B</code> <i>(grande base)</i></li>\n",
    "    <li><code>h</code> <i>(hauteur)</i></li>\n",
    " </ul>\n",
    "    Elle renvoie l'aire du trapèze :"
   ]
  },
  {
   "cell_type": "code",
   "execution_count": null,
   "metadata": {},
   "outputs": [],
   "source": [
    "def trapèze(b,B,h):\n",
    "    return (b+B)/2*h"
   ]
  },
  {
   "cell_type": "markdown",
   "metadata": {},
   "source": [
    "- Fonction <code>aire_sous_courbe</code> de paramètres :\n",
    "<ul>\n",
    "    <li><code>X</code> <i>(liste des abscisses d'une courbe)</i></li> \n",
    "    <li><code>Y</code> <i>(liste des ordonnée d'une courbe)</i></li>\n",
    "</ul>\n",
    "Elle renvoie l'aire sous la courbe :"
   ]
  },
  {
   "cell_type": "code",
   "execution_count": null,
   "metadata": {},
   "outputs": [],
   "source": [
    "def aire_sous_courbe(X,Y):\n",
    "    aire = 0\n",
    "    for k in range(len(X)-1):\n",
    "        b = Y[k]/100\n",
    "        B = Y[k+1]/100\n",
    "        h = X[k+1]/100 - X[k]/100\n",
    "        aire = aire + trapèze(b,B,h)\n",
    "    return aire"
   ]
  },
  {
   "cell_type": "markdown",
   "metadata": {},
   "source": [
    "- Coefficient de Gini : "
   ]
  },
  {
   "cell_type": "code",
   "execution_count": null,
   "metadata": {},
   "outputs": [],
   "source": [
    "def gini(X,Y):\n",
    "    return 1 - 2*aire_sous_courbe(X,Y)"
   ]
  },
  {
   "cell_type": "markdown",
   "metadata": {},
   "source": [
    "- Pour la <b>Juventus</b> :"
   ]
  },
  {
   "cell_type": "code",
   "execution_count": null,
   "metadata": {},
   "outputs": [],
   "source": [
    "gini(Joueurs_JT,Masse_sal_JT)"
   ]
  },
  {
   "cell_type": "markdown",
   "metadata": {},
   "source": [
    "- Pour le <b>FC Barcelona</b> :"
   ]
  },
  {
   "cell_type": "code",
   "execution_count": null,
   "metadata": {},
   "outputs": [],
   "source": [
    "gini(Joueurs_BT,Masse_sal_BT)"
   ]
  },
  {
   "cell_type": "markdown",
   "metadata": {},
   "source": [
    "<div class=\"alert alert-success\" role=\"alert\">\n",
    "<p style=\"font-family:Arial Black\">Conclusion :</p>\n",
    "<blockquote id=\"barrev\">\n",
    "    L'indice de Gini pour le <b>FC Barcelona</b> est le le double de celui de la <b>Juventus</b>.\n",
    "    <br>Les salaires du <b>FC Barcelona</b> sont plus inégalitaires que ceux de la <b>Juventus</b>\n",
    "</blockquote>\n",
    "</div>"
   ]
  },
  {
   "cell_type": "markdown",
   "metadata": {},
   "source": [
    "<p style=\"color:blue;font-family:Comic Sans MS;background-color:white;font-size:200%;text-align:center;border-style:solid solid solid solid;padding:10px\">Fini ... </p>\n",
    "<p>\n",
    "<a href=\"#titre\"; style=\"text-align: right;\">Retour au début</a>\n",
    "</p>"
   ]
  },
  {
   "cell_type": "code",
   "execution_count": 1,
   "metadata": {},
   "outputs": [
    {
     "data": {
      "text/html": [
       "<style>\n",
       "\n",
       "#notebook-container {\n",
       "    padding: 15px;\n",
       "    background-color: #CBE1DA;\n",
       "    min-height: 0;\n",
       "    -webkit-box-shadow: 0px 0px 12px 1px rgba(87, 87, 87, 0.3);\n",
       "    box-shadow: 0px 0px 12px 1px rgba(0, 0, 0, 0);\n",
       "}\n",
       ".notebook_app {\n",
       "    background-color: white;\n",
       "}\n",
       "#header{\n",
       "background-color: yellow;\n",
       "}\n",
       "#notebook_name.filename{\n",
       "color:DarkRed;\n",
       "font-size:200%;\n",
       "}\n",
       "body #header{\n",
       "background-color:white;\n",
       "}\n",
       "\n",
       ".s_titre\n",
       "{\n",
       "color:white;\n",
       "background-color:#F0573B;\n",
       "font-size:200%;\n",
       "font-family:Arial;\n",
       "border-left: 20px solid orange;\n",
       "margin-left: 0px;\n",
       "}\n",
       "\n",
       "h1{\n",
       "  color:white;\n",
       "  font-family:Comic Sans MS;\n",
       "  font-size:10em;\n",
       "  background-color:#F0573B;\n",
       "  text-align:center;\n",
       "  padding:10px\n",
       "}\n",
       "\n",
       "#section{\n",
       "  color:white;\n",
       "  background-color:#F0573B;\n",
       "  font-size:200%;\n",
       "  font-family:Arial;\n",
       "  border-left: 30px solid orange;  \n",
       "  margin-left: -10px;\n",
       "  padding:10px\n",
       "}\n",
       "\n",
       "#barrev{\n",
       "  color:white;\n",
       "  background-color:#5EB766;\n",
       "  font-size:100%;\n",
       "  font-family:Arial;\n",
       "  border-left: 3px solid #368414;  \n",
       "  margin-left: 10px}\n",
       "\n",
       "#barrer{\n",
       "  background-color:#F9ECF7;\n",
       "  border-left: 2px solid #B63369;  \n",
       "  margin-left: 20px;\n",
       "  color : #A55343\n",
       "}\n",
       "#barre{\n",
       "  background-color:#BAD5E2;\n",
       "  border-left: 2px solid #005C89;  \n",
       "  margin-left: 20px;\n",
       "  color : black\n",
       "}\n",
       "\n",
       "\n",
       "</style>"
      ],
      "text/plain": [
       "<IPython.core.display.HTML object>"
      ]
     },
     "execution_count": 1,
     "metadata": {},
     "output_type": "execute_result"
    }
   ],
   "source": [
    "from IPython.core.display import HTML\n",
    "htm = open(\"style_css.txt\").read()\n",
    "HTML(htm)"
   ]
  },
  {
   "cell_type": "code",
   "execution_count": null,
   "metadata": {},
   "outputs": [],
   "source": []
  }
 ],
 "metadata": {
  "kernelspec": {
   "display_name": "Python 3",
   "language": "python",
   "name": "python3"
  },
  "language_info": {
   "codemirror_mode": {
    "name": "ipython",
    "version": 3
   },
   "file_extension": ".py",
   "mimetype": "text/x-python",
   "name": "python",
   "nbconvert_exporter": "python",
   "pygments_lexer": "ipython3",
   "version": "3.6.7"
  }
 },
 "nbformat": 4,
 "nbformat_minor": 2
}
