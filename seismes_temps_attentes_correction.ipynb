{
 "cells": [
  {
   "cell_type": "markdown",
   "metadata": {},
   "source": [
    "<div id=\"titre\">\n",
    "<h1 style=\"font-size:500%\">Temps d'attente entre 2 séimes de magnitude 6</h1>\n",
    "<div style=\"font-family:Comic Sans MS; background-color:black;box-shadow: 8px 8px 0px #aaa; text-align:center; width: 50%; color:white\">Bro Frédéric - PFC - Liban - 20 janvier 2020</div>\n",
    "</div>"
   ]
  },
  {
   "cell_type": "markdown",
   "metadata": {},
   "source": [
    "L'USGS fournit des données sur les tremblements de terre survenus dans le monde à l'adresse https://earthquake.usgs.gov/earthquakes/search/ . \n",
    "<br> Le fichier <code>'earthquakes.csv'</code> contient les données concernant tous les séimes qui se sont produits en 2014."
   ]
  },
  {
   "cell_type": "markdown",
   "metadata": {},
   "source": [
    "<div id=\"table\" style=\"border:solid; background-color:#86BC98;box-shadow: 8px 8px 0px #aaa\">\n",
    "    <p style=\"font-family:Comic Sans MS\"><u>Table des matières :</u></p>\n",
    "<p style=\"font-family:Arial Black;font-size:100%; color:black\">1 - <a href=\"#section1\" style=\"font-family:Comic Sans MS\">Traitement des données avec Pandas</a></p>\n",
    "<p style=\"font-family:Arial Black; font-size:100%; color:black\">2 - <a href=\"#section2\" style=\"font-family:Comic Sans MS\">Création de la colonne des temps d'attentes entre 2 séismes consécutifs de magnétude $\\geqslant6$</a></p>\n",
    "<p style=\"font-family:Arial Black; font-size:100%; color:black\">3 - <a href=\"#section3\" style=\"font-family:Comic Sans MS\">Modélisation du temps d'attente entre 2 séismes consécutifs de magnétude $\\geqslant6$</a></p>\n",
    "</div>"
   ]
  },
  {
   "cell_type": "markdown",
   "metadata": {},
   "source": [
    "<div id=\"section1\">\n",
    "<blockquote id=\"section\">Traitement des données avec Pandas</blockquote>\n",
    "<a href=\"#table\"; style=\"text-align: right;\">Retour table des matières</a>\n",
    "</div>"
   ]
  },
  {
   "cell_type": "code",
   "execution_count": null,
   "metadata": {},
   "outputs": [],
   "source": [
    "import pandas as pa \n",
    "import pylab as pl\n",
    "import seaborn as sns\n",
    "pl.style.use('bmh')"
   ]
  },
  {
   "cell_type": "code",
   "execution_count": null,
   "metadata": {},
   "outputs": [],
   "source": [
    "T = pa.read_csv('earthquakes_2014.csv')\n",
    "T.head(2)"
   ]
  },
  {
   "cell_type": "markdown",
   "metadata": {},
   "source": [
    "<div id=\"section2\">\n",
    "<blockquote id=\"section\">Création de la colonne des temps d'attentes entre 2 séismes consécutifs de magnétude $\\geqslant6$</blockquote>\n",
    "<a href=\"#table\"; style=\"text-align: right;\">Retour table des matières</a>\n",
    "</div>"
   ]
  },
  {
   "cell_type": "markdown",
   "metadata": {},
   "source": [
    "- Trions la table <code>T</code> en rangeant les dates de <code>time</code> de la plus petite à la plus grande"
   ]
  },
  {
   "cell_type": "code",
   "execution_count": null,
   "metadata": {},
   "outputs": [],
   "source": [
    "T.sort_values('time', inplace=True)\n",
    "T['time'] = pa.to_datetime(T['time'])"
   ]
  },
  {
   "cell_type": "markdown",
   "metadata": {},
   "source": [
    "- Sélectionnons  les séismes de  <code>T</code> de magnétude $\\geqslant6$."
   ]
  },
  {
   "cell_type": "code",
   "execution_count": null,
   "metadata": {},
   "outputs": [],
   "source": [
    "F = T.query('mag >=6')"
   ]
  },
  {
   "cell_type": "markdown",
   "metadata": {},
   "source": [
    "- Créons la colonne des temps d'attentes entre 2 séismes consécutifs."
   ]
  },
  {
   "cell_type": "code",
   "execution_count": null,
   "metadata": {},
   "outputs": [],
   "source": [
    "F.time.diff()"
   ]
  },
  {
   "cell_type": "markdown",
   "metadata": {},
   "source": [
    "- Eliminons le premier élément de la colonne précédente"
   ]
  },
  {
   "cell_type": "code",
   "execution_count": null,
   "metadata": {},
   "outputs": [],
   "source": [
    "F.time.diff().dropna()"
   ]
  },
  {
   "cell_type": "markdown",
   "metadata": {},
   "source": [
    "- Chargeons les fonctions <code>timedelta64</code>, <code>exp</code> et <code>sqrt</code> du module <code>numpy</code>."
   ]
  },
  {
   "cell_type": "code",
   "execution_count": null,
   "metadata": {},
   "outputs": [],
   "source": [
    "from numpy import timedelta64, exp, sqrt"
   ]
  },
  {
   "cell_type": "markdown",
   "metadata": {},
   "source": [
    "- Evaluons ces temps d'attente en jour et stockons les résultats dans la variable <code>temps</code>."
   ]
  },
  {
   "cell_type": "code",
   "execution_count": null,
   "metadata": {},
   "outputs": [],
   "source": [
    "temps = F.time.diff().dropna()/timedelta64(1, \"D\")\n",
    "temps"
   ]
  },
  {
   "cell_type": "markdown",
   "metadata": {},
   "source": [
    "<div id=\"section3\">\n",
    "<blockquote id=\"section\">Modélisation du temps d'attente entre 2 séismes consécutifs de magnétude $\\geqslant6$</blockquote>\n",
    "<a href=\"#table\"; style=\"text-align: right;\">Retour table des matières</a>\n",
    "</div>"
   ]
  },
  {
   "cell_type": "markdown",
   "metadata": {},
   "source": [
    "- Histogramme normalisé des fréquences de <code>temps</code>."
   ]
  },
  {
   "cell_type": "code",
   "execution_count": null,
   "metadata": {},
   "outputs": [],
   "source": [
    "temps.hist(edgecolor='red',color='orange',density=True)"
   ]
  },
  {
   "cell_type": "markdown",
   "metadata": {},
   "source": [
    "<div class=\"alert alert-danger\">\n",
    "    <p style=\"font-family:Arial Black\">Ici :</p> \n",
    "<blockquote id=\"barrer\">\n",
    "    Essayons d'ajuster cet histogramme par une courbe de densité associée à une <b>loi exponentielle</b> de paramètre <code>a</code>\n",
    "\n",
    "</blockquote>    \n",
    "</div>"
   ]
  },
  {
   "cell_type": "markdown",
   "metadata": {},
   "source": [
    "- Fonction <code>densite</code> de paramètre <code>a</code> qui permet de représenter la densité de probabilité d'une loi exponentielle de paramètre $a$."
   ]
  },
  {
   "cell_type": "code",
   "execution_count": null,
   "metadata": {},
   "outputs": [],
   "source": [
    "def densite(a):\n",
    "    t = [k/1000 for k in range(17000)]\n",
    "    y = [a*exp(-a*x) for x in t]\n",
    "    pl.plot(t,y,color='black')"
   ]
  },
  {
   "cell_type": "markdown",
   "metadata": {},
   "source": [
    "- Conjecturons un intervalle possible des valeurs de $a$"
   ]
  },
  {
   "cell_type": "code",
   "execution_count": null,
   "metadata": {},
   "outputs": [],
   "source": [
    "from ipywidgets import interact\n",
    "\n",
    "def plot(a):\n",
    "    densite(a)\n",
    "    temps.hist(edgecolor='red',color='orange',density=True)\n",
    "    \n",
    "interact(plot, a = (0.2,0.5,0.01))"
   ]
  },
  {
   "cell_type": "markdown",
   "metadata": {},
   "source": [
    "<div class=\"alert alert-success\" role=\"alert\">\n",
    "<p style=\"font-family:Arial Black\">Que dire ?</p>\n",
    "    <blockquote id=\"barrev\">\n",
    "        <ul>\n",
    "            <li>Graphiquement, on propose $$a\\in \\left[ 0,40\\, ;\\, 0,44\\right]$$</li>\n",
    "            <li><b><u>On modélise</u></b> le temps d'attente entre 2 séismes consécutifs par une variable aléatoire $X$.<br> <b>Selon ce modèle</b>,  la <b>loi des grands nombres</b> dit que $$\\mathbb{E}[X]\\approx m$$ où $m$ est la moyenne des temps d'attentes observés dans <code>temps</code>.<br> Or $$\\mathbb{E}[X]= \\dfrac{1}{a}$$\n",
    "            </li>\n",
    "        </ul>\n",
    "    </blockquote>\n",
    "</div>"
   ]
  },
  {
   "cell_type": "code",
   "execution_count": null,
   "metadata": {},
   "outputs": [],
   "source": [
    "m = temps.mean()\n",
    "a = 1/m\n",
    "a"
   ]
  },
  {
   "cell_type": "code",
   "execution_count": null,
   "metadata": {},
   "outputs": [],
   "source": [
    "plot(a)"
   ]
  },
  {
   "cell_type": "markdown",
   "metadata": {},
   "source": [
    "<div class=\"alert alert-info\">\n",
    "    <p style=\"font-family:Arial Black\">Question :</p> \n",
    "    <blockquote id=\"barre\">\n",
    "    Calcul de $\\mathbb{P}(X\\leqslant 1)$\n",
    "    </blockquote>    \n",
    "</div>"
   ]
  },
  {
   "cell_type": "code",
   "execution_count": null,
   "metadata": {},
   "outputs": [],
   "source": [
    "1-exp(-a)"
   ]
  },
  {
   "cell_type": "markdown",
   "metadata": {},
   "source": [
    "<p style=\"color:blue;font-family:Comic Sans MS;background-color:white;font-size:200%;text-align:center;border-style:solid solid solid solid;padding:10px\">Fini ... </p>\n",
    "<p>\n",
    "<a href=\"#titre\"; style=\"text-align: right;\">Retour au début</a>\n",
    "</p>"
   ]
  },
  {
   "cell_type": "code",
   "execution_count": 1,
   "metadata": {},
   "outputs": [
    {
     "data": {
      "text/html": [
       "<style>\n",
       "\n",
       "#notebook-container {\n",
       "    padding: 15px;\n",
       "    background-color: #CBE1DA;\n",
       "    min-height: 0;\n",
       "    -webkit-box-shadow: 0px 0px 12px 1px rgba(87, 87, 87, 0.3);\n",
       "    box-shadow: 0px 0px 12px 1px rgba(0, 0, 0, 0);\n",
       "}\n",
       ".notebook_app {\n",
       "    background-color: white;\n",
       "}\n",
       "#header{\n",
       "background-color: yellow;\n",
       "}\n",
       "#notebook_name.filename{\n",
       "color:DarkRed;\n",
       "font-size:200%;\n",
       "}\n",
       "body #header{\n",
       "background-color:white;\n",
       "}\n",
       "\n",
       ".s_titre\n",
       "{\n",
       "color:white;\n",
       "background-color:#F0573B;\n",
       "font-size:200%;\n",
       "font-family:Arial;\n",
       "border-left: 20px solid orange;\n",
       "margin-left: 0px;\n",
       "}\n",
       "\n",
       "h1{\n",
       "  color:white;\n",
       "  font-family:Comic Sans MS;\n",
       "  font-size:10em;\n",
       "  background-color:#F0573B;\n",
       "  text-align:center;\n",
       "  padding:10px\n",
       "}\n",
       "\n",
       "#section{\n",
       "  color:white;\n",
       "  background-color:#F0573B;\n",
       "  font-size:200%;\n",
       "  font-family:Arial;\n",
       "  border-left: 30px solid orange;  \n",
       "  margin-left: -10px;\n",
       "  padding:10px\n",
       "}\n",
       "\n",
       "#barrev{\n",
       "  color:white;\n",
       "  background-color:#5EB766;\n",
       "  font-size:100%;\n",
       "  font-family:Arial;\n",
       "  border-left: 3px solid #368414;  \n",
       "  margin-left: 10px}\n",
       "\n",
       "#barrer{\n",
       "  background-color:#F9ECF7;\n",
       "  border-left: 2px solid #B63369;  \n",
       "  margin-left: 20px;\n",
       "  color : #A55343\n",
       "}\n",
       "#barre{\n",
       "  background-color:#BAD5E2;\n",
       "  border-left: 2px solid #005C89;  \n",
       "  margin-left: 20px;\n",
       "  color : black\n",
       "}\n",
       "\n",
       "\n",
       "</style>"
      ],
      "text/plain": [
       "<IPython.core.display.HTML object>"
      ]
     },
     "execution_count": 1,
     "metadata": {},
     "output_type": "execute_result"
    }
   ],
   "source": [
    "from IPython.core.display import HTML\n",
    "htm = open(\"style_css.txt\").read()\n",
    "HTML(htm)"
   ]
  },
  {
   "cell_type": "code",
   "execution_count": null,
   "metadata": {},
   "outputs": [],
   "source": []
  }
 ],
 "metadata": {
  "kernelspec": {
   "display_name": "Python 3",
   "language": "python",
   "name": "python3"
  },
  "language_info": {
   "codemirror_mode": {
    "name": "ipython",
    "version": 3
   },
   "file_extension": ".py",
   "mimetype": "text/x-python",
   "name": "python",
   "nbconvert_exporter": "python",
   "pygments_lexer": "ipython3",
   "version": "3.6.7"
  }
 },
 "nbformat": 4,
 "nbformat_minor": 2
}
