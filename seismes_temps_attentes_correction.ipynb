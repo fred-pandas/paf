{
 "cells": [
  {
   "cell_type": "markdown",
   "metadata": {},
   "source": [
    "<div id=\"titre\">\n",
    "<h1 style=\"font-size:500%\">Temps d'attente entre 2 séimes de magnitude 6</h1>\n",
    "<div style=\"font-family:Comic Sans MS; background-color:black;box-shadow: 8px 8px 0px #aaa; text-align:center; width: 50%; color:white\">Bro Frédéric - PFC - Liban - 20 janvier 2020</div>\n",
    "</div>"
   ]
  },
  {
   "cell_type": "markdown",
   "metadata": {},
   "source": [
    "L'USGS fournit des données sur les tremblements de terre survenus dans le monde à l'adresse https://earthquake.usgs.gov/earthquakes/search/ . \n",
    "<br> Le fichier <code>'earthquakes.csv'</code> contient les données concernant tous les séimes qui se sont produits en 2014."
   ]
  },
  {
   "cell_type": "markdown",
   "metadata": {},
   "source": [
    "<div id=\"table\" style=\"border:solid; background-color:#86BC98;box-shadow: 8px 8px 0px #aaa\">\n",
    "    <p style=\"font-family:Comic Sans MS\"><u>Table des matières :</u></p>\n",
    "<p style=\"font-family:Arial Black;font-size:100%; color:black\">1 - <a href=\"#section1\" style=\"font-family:Comic Sans MS\">Traitement des données avec Pandas</a></p>\n",
    "<p style=\"font-family:Arial Black; font-size:100%; color:black\">2 - <a href=\"#section2\" style=\"font-family:Comic Sans MS\">Création de la colonne des temps d'attentes entre 2 séismes consécutifs de magnétude $\\geqslant6$</a></p>\n",
    "<p style=\"font-family:Arial Black; font-size:100%; color:black\">3 - <a href=\"#section3\" style=\"font-family:Comic Sans MS\">Modélisation du temps d'attente entre 2 séismes consécutifs de magnétude $\\geqslant6$</a></p>\n",
    "</div>"
   ]
  },
  {
   "cell_type": "markdown",
   "metadata": {},
   "source": [
    "<div id=\"section1\">\n",
    "<blockquote id=\"section\">Traitement des données avec Pandas</blockquote>\n",
    "<a href=\"#table\"; style=\"text-align: right;\">Retour table des matières</a>\n",
    "</div>"
   ]
  },
  {
   "cell_type": "code",
   "execution_count": 1,
   "metadata": {},
   "outputs": [],
   "source": [
    "import pandas as pa \n",
    "import pylab as pl\n",
    "import seaborn as sns\n",
    "pl.style.use('bmh')"
   ]
  },
  {
   "cell_type": "code",
   "execution_count": 2,
   "metadata": {},
   "outputs": [
    {
     "data": {
      "text/html": [
       "<div>\n",
       "<style scoped>\n",
       "    .dataframe tbody tr th:only-of-type {\n",
       "        vertical-align: middle;\n",
       "    }\n",
       "\n",
       "    .dataframe tbody tr th {\n",
       "        vertical-align: top;\n",
       "    }\n",
       "\n",
       "    .dataframe thead th {\n",
       "        text-align: right;\n",
       "    }\n",
       "</style>\n",
       "<table border=\"1\" class=\"dataframe\">\n",
       "  <thead>\n",
       "    <tr style=\"text-align: right;\">\n",
       "      <th></th>\n",
       "      <th>time</th>\n",
       "      <th>latitude</th>\n",
       "      <th>longitude</th>\n",
       "      <th>depth</th>\n",
       "      <th>mag</th>\n",
       "      <th>magType</th>\n",
       "      <th>nst</th>\n",
       "      <th>gap</th>\n",
       "      <th>dmin</th>\n",
       "      <th>rms</th>\n",
       "      <th>net</th>\n",
       "      <th>id</th>\n",
       "      <th>updated</th>\n",
       "      <th>place</th>\n",
       "      <th>type</th>\n",
       "      <th>pays</th>\n",
       "    </tr>\n",
       "  </thead>\n",
       "  <tbody>\n",
       "    <tr>\n",
       "      <th>0</th>\n",
       "      <td>2014-01-31 23:53:37.000</td>\n",
       "      <td>60.2520</td>\n",
       "      <td>-152.7081</td>\n",
       "      <td>90.2</td>\n",
       "      <td>1.10</td>\n",
       "      <td>ml</td>\n",
       "      <td>NaN</td>\n",
       "      <td>NaN</td>\n",
       "      <td>NaN</td>\n",
       "      <td>0.2900</td>\n",
       "      <td>ak</td>\n",
       "      <td>ak11155107</td>\n",
       "      <td>2014-02-05T19:34:41.515Z</td>\n",
       "      <td>26km S of Redoubt Volcano, Alaska</td>\n",
       "      <td>earthquake</td>\n",
       "      <td>Alaska</td>\n",
       "    </tr>\n",
       "    <tr>\n",
       "      <th>1</th>\n",
       "      <td>2014-01-31 23:48:35.452</td>\n",
       "      <td>37.0703</td>\n",
       "      <td>-115.1309</td>\n",
       "      <td>0.0</td>\n",
       "      <td>1.33</td>\n",
       "      <td>ml</td>\n",
       "      <td>4.0</td>\n",
       "      <td>171.43</td>\n",
       "      <td>0.342</td>\n",
       "      <td>0.0247</td>\n",
       "      <td>nn</td>\n",
       "      <td>nn00436847</td>\n",
       "      <td>2014-02-01T01:35:09.000Z</td>\n",
       "      <td>32km S of Alamo, Nevada</td>\n",
       "      <td>earthquake</td>\n",
       "      <td>Nevada</td>\n",
       "    </tr>\n",
       "  </tbody>\n",
       "</table>\n",
       "</div>"
      ],
      "text/plain": [
       "                      time  latitude  longitude  depth   mag magType  nst  \\\n",
       "0  2014-01-31 23:53:37.000   60.2520  -152.7081   90.2  1.10      ml  NaN   \n",
       "1  2014-01-31 23:48:35.452   37.0703  -115.1309    0.0  1.33      ml  4.0   \n",
       "\n",
       "      gap   dmin     rms net          id                   updated  \\\n",
       "0     NaN    NaN  0.2900  ak  ak11155107  2014-02-05T19:34:41.515Z   \n",
       "1  171.43  0.342  0.0247  nn  nn00436847  2014-02-01T01:35:09.000Z   \n",
       "\n",
       "                               place        type    pays  \n",
       "0  26km S of Redoubt Volcano, Alaska  earthquake  Alaska  \n",
       "1            32km S of Alamo, Nevada  earthquake  Nevada  "
      ]
     },
     "execution_count": 2,
     "metadata": {},
     "output_type": "execute_result"
    }
   ],
   "source": [
    "T = pa.read_csv('earthquakes_2014.csv')\n",
    "T.head(2)"
   ]
  },
  {
   "cell_type": "markdown",
   "metadata": {},
   "source": [
    "<div id=\"section2\">\n",
    "<blockquote id=\"section\">Création de la colonne des temps d'attentes entre 2 séismes consécutifs de magnétude $\\geqslant6$</blockquote>\n",
    "<a href=\"#table\"; style=\"text-align: right;\">Retour table des matières</a>\n",
    "</div>"
   ]
  },
  {
   "cell_type": "markdown",
   "metadata": {},
   "source": [
    "- Trions la table <code>T</code> en rangeant les dates de <code>time</code> de la plus petite à la plus grande"
   ]
  },
  {
   "cell_type": "code",
   "execution_count": 3,
   "metadata": {},
   "outputs": [],
   "source": [
    "T.sort_values('time', inplace=True)\n",
    "T['time'] = pa.to_datetime(T['time'])"
   ]
  },
  {
   "cell_type": "markdown",
   "metadata": {},
   "source": [
    "- Sélectionnons  les séismes de  <code>T</code> de magnétude $\\geqslant6$."
   ]
  },
  {
   "cell_type": "code",
   "execution_count": 4,
   "metadata": {},
   "outputs": [],
   "source": [
    "F = T.query('mag >=6')"
   ]
  },
  {
   "cell_type": "markdown",
   "metadata": {},
   "source": [
    "- Créons la colonne des temps d'attentes entre 2 séismes consécutifs."
   ]
  },
  {
   "cell_type": "code",
   "execution_count": 5,
   "metadata": {},
   "outputs": [
    {
     "data": {
      "text/plain": [
       "9062                         NaT\n",
       "5894     11 days 11:57:34.240000\n",
       "3592      6 days 22:51:41.110000\n",
       "3308      0 days 22:36:22.650000\n",
       "2211      4 days 03:45:11.510000\n",
       "1805      1 days 08:41:23.700000\n",
       "17995     5 days 14:03:01.780000\n",
       "17606     1 days 05:27:53.830000\n",
       "17397     0 days 17:42:08.370000\n",
       "15979     4 days 05:31:27.360000\n",
       "15147     2 days 06:16:25.560000\n",
       "14025     2 days 18:23:09.950000\n",
       "12142     6 days 00:07:24.060000\n",
       "9751      8 days 11:46:26.990000\n",
       "27118     3 days 12:24:14.730000\n",
       "26972     0 days 10:33:28.590000\n",
       "26941     0 days 02:05:50.970000\n",
       "26230     2 days 11:39:43.440000\n",
       "24887     4 days 19:21:15.560000\n",
       "24605     0 days 21:25:52.430000\n",
       "24404     0 days 19:19:03.980000\n",
       "23906     1 days 19:03:40.960000\n",
       "23368     1 days 15:52:31.090000\n",
       "23198     0 days 14:52:11.110000\n",
       "22968     0 days 21:24:56.630000\n",
       "22843     0 days 07:55:05.260000\n",
       "21508     4 days 08:29:34.620000\n",
       "21133     0 days 23:18:49.670000\n",
       "20764     1 days 05:20:02.780000\n",
       "19989     2 days 09:09:33.790000\n",
       "                   ...          \n",
       "100311    5 days 09:47:34.760000\n",
       "98089     6 days 10:10:47.960000\n",
       "97927     0 days 12:51:13.390000\n",
       "97602     0 days 23:33:38.330000\n",
       "97597     0 days 00:17:33.700000\n",
       "96979     2 days 00:03:42.340000\n",
       "95913     3 days 01:15:46.980000\n",
       "91301    13 days 23:24:03.490000\n",
       "111148    4 days 07:44:16.660000\n",
       "111052    0 days 07:57:27.770000\n",
       "110805    0 days 22:19:42.030000\n",
       "110631    0 days 15:31:25.330000\n",
       "109305    3 days 18:45:25.540000\n",
       "106828    6 days 06:50:22.990000\n",
       "106285    1 days 16:07:23.450000\n",
       "105466    1 days 20:01:38.730000\n",
       "105173    0 days 18:19:26.400000\n",
       "103919    3 days 17:17:32.780000\n",
       "103439    1 days 02:57:58.790000\n",
       "101767    4 days 01:25:25.220000\n",
       "119708    5 days 14:37:47.360000\n",
       "118376    4 days 12:10:18.020000\n",
       "118324    0 days 04:43:21.710000\n",
       "118288    0 days 03:16:51.450000\n",
       "118043    0 days 19:54:33.560000\n",
       "117886    0 days 11:38:16.780000\n",
       "117155    2 days 12:08:46.740000\n",
       "114216   10 days 14:30:34.310000\n",
       "111964    7 days 21:55:23.820000\n",
       "111564    1 days 11:47:46.530000\n",
       "Name: time, Length: 155, dtype: timedelta64[ns]"
      ]
     },
     "execution_count": 5,
     "metadata": {},
     "output_type": "execute_result"
    }
   ],
   "source": [
    "F.time.diff()"
   ]
  },
  {
   "cell_type": "markdown",
   "metadata": {},
   "source": [
    "- Eliminons le premier élément de la colonne précédente"
   ]
  },
  {
   "cell_type": "code",
   "execution_count": 6,
   "metadata": {},
   "outputs": [
    {
     "data": {
      "text/plain": [
       "5894     11 days 11:57:34.240000\n",
       "3592      6 days 22:51:41.110000\n",
       "3308      0 days 22:36:22.650000\n",
       "2211      4 days 03:45:11.510000\n",
       "1805      1 days 08:41:23.700000\n",
       "17995     5 days 14:03:01.780000\n",
       "17606     1 days 05:27:53.830000\n",
       "17397     0 days 17:42:08.370000\n",
       "15979     4 days 05:31:27.360000\n",
       "15147     2 days 06:16:25.560000\n",
       "14025     2 days 18:23:09.950000\n",
       "12142     6 days 00:07:24.060000\n",
       "9751      8 days 11:46:26.990000\n",
       "27118     3 days 12:24:14.730000\n",
       "26972     0 days 10:33:28.590000\n",
       "26941     0 days 02:05:50.970000\n",
       "26230     2 days 11:39:43.440000\n",
       "24887     4 days 19:21:15.560000\n",
       "24605     0 days 21:25:52.430000\n",
       "24404     0 days 19:19:03.980000\n",
       "23906     1 days 19:03:40.960000\n",
       "23368     1 days 15:52:31.090000\n",
       "23198     0 days 14:52:11.110000\n",
       "22968     0 days 21:24:56.630000\n",
       "22843     0 days 07:55:05.260000\n",
       "21508     4 days 08:29:34.620000\n",
       "21133     0 days 23:18:49.670000\n",
       "20764     1 days 05:20:02.780000\n",
       "19989     2 days 09:09:33.790000\n",
       "19710     1 days 00:20:06.990000\n",
       "                   ...          \n",
       "100311    5 days 09:47:34.760000\n",
       "98089     6 days 10:10:47.960000\n",
       "97927     0 days 12:51:13.390000\n",
       "97602     0 days 23:33:38.330000\n",
       "97597     0 days 00:17:33.700000\n",
       "96979     2 days 00:03:42.340000\n",
       "95913     3 days 01:15:46.980000\n",
       "91301    13 days 23:24:03.490000\n",
       "111148    4 days 07:44:16.660000\n",
       "111052    0 days 07:57:27.770000\n",
       "110805    0 days 22:19:42.030000\n",
       "110631    0 days 15:31:25.330000\n",
       "109305    3 days 18:45:25.540000\n",
       "106828    6 days 06:50:22.990000\n",
       "106285    1 days 16:07:23.450000\n",
       "105466    1 days 20:01:38.730000\n",
       "105173    0 days 18:19:26.400000\n",
       "103919    3 days 17:17:32.780000\n",
       "103439    1 days 02:57:58.790000\n",
       "101767    4 days 01:25:25.220000\n",
       "119708    5 days 14:37:47.360000\n",
       "118376    4 days 12:10:18.020000\n",
       "118324    0 days 04:43:21.710000\n",
       "118288    0 days 03:16:51.450000\n",
       "118043    0 days 19:54:33.560000\n",
       "117886    0 days 11:38:16.780000\n",
       "117155    2 days 12:08:46.740000\n",
       "114216   10 days 14:30:34.310000\n",
       "111964    7 days 21:55:23.820000\n",
       "111564    1 days 11:47:46.530000\n",
       "Name: time, Length: 154, dtype: timedelta64[ns]"
      ]
     },
     "execution_count": 6,
     "metadata": {},
     "output_type": "execute_result"
    }
   ],
   "source": [
    "F.time.diff().dropna()"
   ]
  },
  {
   "cell_type": "markdown",
   "metadata": {},
   "source": [
    "- Chargeons les fonctions <code>timedelta64</code>, <code>exp</code> et <code>sqrt</code> du module <code>numpy</code>."
   ]
  },
  {
   "cell_type": "code",
   "execution_count": 7,
   "metadata": {},
   "outputs": [],
   "source": [
    "from numpy import timedelta64, exp, sqrt"
   ]
  },
  {
   "cell_type": "markdown",
   "metadata": {},
   "source": [
    "- Evaluons ces temps d'attente en jour et stockons les résultats dans la variable <code>temps</code>."
   ]
  },
  {
   "cell_type": "code",
   "execution_count": 8,
   "metadata": {},
   "outputs": [
    {
     "data": {
      "text/plain": [
       "5894      11.498313\n",
       "3592       6.952559\n",
       "3308       0.941929\n",
       "2211       4.156383\n",
       "1805       1.362080\n",
       "17995      5.585437\n",
       "17606      1.227706\n",
       "17397      0.737597\n",
       "15979      4.230178\n",
       "15147      2.261407\n",
       "14025      2.766087\n",
       "12142      6.005140\n",
       "9751       8.490590\n",
       "27118      3.516837\n",
       "26972      0.439914\n",
       "26941      0.087395\n",
       "26230      2.485919\n",
       "24887      4.806430\n",
       "24605      0.892968\n",
       "24404      0.804907\n",
       "23906      1.794224\n",
       "23368      1.661471\n",
       "23198      0.619573\n",
       "22968      0.892322\n",
       "22843      0.329922\n",
       "21508      4.353873\n",
       "21133      0.971408\n",
       "20764      1.222254\n",
       "19989      2.381641\n",
       "19710      1.013970\n",
       "            ...    \n",
       "100311     5.408041\n",
       "98089      6.424166\n",
       "97927      0.535572\n",
       "97602      0.981694\n",
       "97597      0.012196\n",
       "96979      2.002573\n",
       "95913      3.052627\n",
       "91301     13.975040\n",
       "111148     4.322415\n",
       "111052     0.331571\n",
       "110805     0.930348\n",
       "110631     0.646821\n",
       "109305     3.781546\n",
       "106828     6.284988\n",
       "106285     1.671799\n",
       "105466     1.834476\n",
       "105173     0.763500\n",
       "103919     3.720518\n",
       "103439     1.123597\n",
       "101767     4.059320\n",
       "119708     5.609576\n",
       "118376     4.507153\n",
       "118324     0.196779\n",
       "118288     0.136707\n",
       "118043     0.829555\n",
       "117886     0.484916\n",
       "117155     2.506097\n",
       "114216    10.604564\n",
       "111964     7.913470\n",
       "111564     1.491511\n",
       "Name: time, Length: 154, dtype: float64"
      ]
     },
     "execution_count": 8,
     "metadata": {},
     "output_type": "execute_result"
    }
   ],
   "source": [
    "temps = F.time.diff().dropna()/timedelta64(1, \"D\")\n",
    "temps"
   ]
  },
  {
   "cell_type": "markdown",
   "metadata": {},
   "source": [
    "<div id=\"section3\">\n",
    "<blockquote id=\"section\">Modélisation du temps d'attente entre 2 séismes consécutifs de magnétude $\\geqslant6$</blockquote>\n",
    "<a href=\"#table\"; style=\"text-align: right;\">Retour table des matières</a>\n",
    "</div>"
   ]
  },
  {
   "cell_type": "markdown",
   "metadata": {},
   "source": [
    "- Histogramme normalisé des fréquences de <code>temps</code>."
   ]
  },
  {
   "cell_type": "code",
   "execution_count": 9,
   "metadata": {},
   "outputs": [
    {
     "data": {
      "text/plain": [
       "<matplotlib.axes._subplots.AxesSubplot at 0x258bb93f860>"
      ]
     },
     "execution_count": 9,
     "metadata": {},
     "output_type": "execute_result"
    },
    {
     "data": {
      "image/png": "[encoded data removed]",
      "text/plain": [
       "<Figure size 432x288 with 1 Axes>"
      ]
     },
     "metadata": {
      "needs_background": "light"
     },
     "output_type": "display_data"
    }
   ],
   "source": [
    "temps.hist(edgecolor='red',color='orange',density=True)"
   ]
  },
  {
   "cell_type": "markdown",
   "metadata": {},
   "source": [
    "<div class=\"alert alert-danger\">\n",
    "    <p style=\"font-family:Arial Black\">Ici :</p> \n",
    "<blockquote id=\"barrer\">\n",
    "    Essayons d'ajuster cet histogramme par une courbe de densité associée à une <b>loi exponentielle</b> de paramètre <code>a</code>\n",
    "\n",
    "</blockquote>    \n",
    "</div>"
   ]
  },
  {
   "cell_type": "markdown",
   "metadata": {},
   "source": [
    "- Fonction <code>densite</code> de paramètre <code>a</code> qui permet de représenter la densité de probabilité d'une loi exponentielle de paramètre $a$."
   ]
  },
  {
   "cell_type": "code",
   "execution_count": 10,
   "metadata": {},
   "outputs": [],
   "source": [
    "def densite(a):\n",
    "    t = [k/1000 for k in range(17000)]\n",
    "    y = [a*exp(-a*x) for x in t]\n",
    "    pl.plot(t,y,color='black')"
   ]
  },
  {
   "cell_type": "markdown",
   "metadata": {},
   "source": [
    "- Conjecturons un intervalle possible des valeurs de $a$"
   ]
  },
  {
   "cell_type": "code",
   "execution_count": 11,
   "metadata": {},
   "outputs": [
    {
     "data": {
      "application/vnd.jupyter.widget-view+json": {
       "model_id": "2db2c35a5a124ac1b19c68e3e263bae4",
       "version_major": 2,
       "version_minor": 0
      },
      "text/plain": [
       "interactive(children=(FloatSlider(value=0.34, description='a', max=0.5, min=0.2, step=0.01), Output()), _dom_c…"
      ]
     },
     "metadata": {},
     "output_type": "display_data"
    },
    {
     "data": {
      "text/plain": [
       "<function __main__.plot(a)>"
      ]
     },
     "execution_count": 11,
     "metadata": {},
     "output_type": "execute_result"
    }
   ],
   "source": [
    "from ipywidgets import interact\n",
    "\n",
    "def plot(a):\n",
    "    densite(a)\n",
    "    temps.hist(edgecolor='red',color='orange',density=True)\n",
    "    \n",
    "interact(plot, a = (0.2,0.5,0.01))"
   ]
  },
  {
   "cell_type": "markdown",
   "metadata": {},
   "source": [
    "<div class=\"alert alert-success\" role=\"alert\">\n",
    "<p style=\"font-family:Arial Black\">Que dire ?</p>\n",
    "    <blockquote id=\"barrev\">\n",
    "        <ul>\n",
    "            <li>Graphiquement, on propose $$a\\in \\left[ 0,40\\, ;\\, 0,44\\right]$$</li>\n",
    "            <li><b><u>On modélise</u></b> le temps d'attente entre 2 séismes consécutifs par une variable aléatoire $X$.<br> <b>Selon ce modèle</b>,  la <b>loi des grands nombres</b> dit que $$\\mathbb{E}[X]\\approx m$$ où $m$ est la moyenne des temps d'attentes observés dans <code>temps</code>.<br> Or $$\\mathbb{E}[X]= \\dfrac{1}{a}$$\n",
    "            </li>\n",
    "        </ul>\n",
    "    </blockquote>\n",
    "</div>"
   ]
  },
  {
   "cell_type": "code",
   "execution_count": 12,
   "metadata": {},
   "outputs": [
    {
     "data": {
      "text/plain": [
       "0.42398780174450196"
      ]
     },
     "execution_count": 12,
     "metadata": {},
     "output_type": "execute_result"
    }
   ],
   "source": [
    "m = temps.mean()\n",
    "a = 1/m\n",
    "a"
   ]
  },
  {
   "cell_type": "code",
   "execution_count": 13,
   "metadata": {},
   "outputs": [
    {
     "data": {
      "image/png": "[encoded data removed]",
      "text/plain": [
       "<Figure size 432x288 with 1 Axes>"
      ]
     },
     "metadata": {
      "needs_background": "light"
     },
     "output_type": "display_data"
    }
   ],
   "source": [
    "plot(a)"
   ]
  },
  {
   "cell_type": "markdown",
   "metadata": {},
   "source": [
    "<div class=\"alert alert-info\">\n",
    "    <p style=\"font-family:Arial Black\">Question :</p> \n",
    "    <blockquote id=\"barre\">\n",
    "    Calcul de $\\mathbb{P}(X\\leqslant 1)$\n",
    "    </blockquote>    \n",
    "</div>"
   ]
  },
  {
   "cell_type": "code",
   "execution_count": 14,
   "metadata": {},
   "outputs": [
    {
     "data": {
      "text/plain": [
       "0.34556813521273744"
      ]
     },
     "execution_count": 14,
     "metadata": {},
     "output_type": "execute_result"
    }
   ],
   "source": [
    "1-exp(-a)"
   ]
  },
  {
   "cell_type": "markdown",
   "metadata": {},
   "source": [
    "<p style=\"color:blue;font-family:Comic Sans MS;background-color:white;font-size:200%;text-align:center;border-style:solid solid solid solid;padding:10px\">Fini ... </p>\n",
    "<p>\n",
    "<a href=\"#titre\"; style=\"text-align: right;\">Retour au début</a>\n",
    "</p>"
   ]
  },
  {
   "cell_type": "code",
   "execution_count": 15,
   "metadata": {},
   "outputs": [
    {
     "data": {
      "text/html": [
       "<style>\n",
       "\n",
       "#notebook-container {\n",
       "    padding: 15px;\n",
       "    background-color: #CBE1DA;\n",
       "    min-height: 0;\n",
       "    -webkit-box-shadow: 0px 0px 12px 1px rgba(87, 87, 87, 0.3);\n",
       "    box-shadow: 0px 0px 12px 1px rgba(0, 0, 0, 0);\n",
       "}\n",
       ".notebook_app {\n",
       "    background-color: white;\n",
       "}\n",
       "#header{\n",
       "background-color: yellow;\n",
       "}\n",
       "#notebook_name.filename{\n",
       "color:DarkRed;\n",
       "font-size:200%;\n",
       "}\n",
       "body #header{\n",
       "background-color:white;\n",
       "}\n",
       "\n",
       ".s_titre\n",
       "{\n",
       "color:white;\n",
       "background-color:#F0573B;\n",
       "font-size:200%;\n",
       "font-family:Arial;\n",
       "border-left: 20px solid orange;\n",
       "margin-left: 0px;\n",
       "}\n",
       "\n",
       "h1{\n",
       "  color:white;\n",
       "  font-family:Comic Sans MS;\n",
       "  font-size:10em;\n",
       "  background-color:#F0573B;\n",
       "  text-align:center;\n",
       "  padding:10px\n",
       "}\n",
       "\n",
       "#section{\n",
       "  color:white;\n",
       "  background-color:#F0573B;\n",
       "  font-size:200%;\n",
       "  font-family:Arial;\n",
       "  border-left: 30px solid orange;  \n",
       "  margin-left: -10px;\n",
       "  padding:10px\n",
       "}\n",
       "\n",
       "#barrev{\n",
       "  color:white;\n",
       "  background-color:#5EB766;\n",
       "  font-size:100%;\n",
       "  font-family:Arial;\n",
       "  border-left: 3px solid #368414;  \n",
       "  margin-left: 10px}\n",
       "\n",
       "#barrer{\n",
       "  background-color:#F9ECF7;\n",
       "  border-left: 2px solid #B63369;  \n",
       "  margin-left: 20px;\n",
       "  color : #A55343\n",
       "}\n",
       "#barre{\n",
       "  background-color:#BAD5E2;\n",
       "  border-left: 2px solid #005C89;  \n",
       "  margin-left: 20px;\n",
       "  color : black\n",
       "}\n",
       "\n",
       "\n",
       "</style>"
      ],
      "text/plain": [
       "<IPython.core.display.HTML object>"
      ]
     },
     "execution_count": 15,
     "metadata": {},
     "output_type": "execute_result"
    }
   ],
   "source": [
    "from IPython.core.display import HTML\n",
    "htm = open(\"style_css.txt\").read()\n",
    "HTML(htm)"
   ]
  }
 ],
 "metadata": {
  "kernelspec": {
   "display_name": "Python 3",
   "language": "python",
   "name": "python3"
  },
  "language_info": {
   "codemirror_mode": {
    "name": "ipython",
    "version": 3
   },
   "file_extension": ".py",
   "mimetype": "text/x-python",
   "name": "python",
   "nbconvert_exporter": "python",
   "pygments_lexer": "ipython3",
   "version": "3.6.7"
  }
 },
 "nbformat": 4,
 "nbformat_minor": 2
}
